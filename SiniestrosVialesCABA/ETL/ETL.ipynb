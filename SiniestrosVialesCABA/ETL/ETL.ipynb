{
 "cells": [
  {
   "cell_type": "code",
   "execution_count": 90,
   "metadata": {},
   "outputs": [],
   "source": [
    "\n",
    "import pandas as pd\n",
    "import numpy as np\n",
    "import pickle"
   ]
  },
  {
   "cell_type": "code",
   "execution_count": 91,
   "metadata": {},
   "outputs": [],
   "source": [
    "with open(\"../datasets/dataHecho.pkl\", \"rb\") as file1:\n",
    "    dataHecho = pickle.load(file1)\n",
    "    \n",
    "with open(\"../datasets/dataVict.pkl\", \"rb\") as file2:\n",
    "    dataVict = pickle.load(file2)"
   ]
  },
  {
   "cell_type": "code",
   "execution_count": 92,
   "metadata": {},
   "outputs": [],
   "source": [
    "data = pd.merge(dataHecho,dataVict,on=['id_hecho'],how='outer')"
   ]
  },
  {
   "cell_type": "code",
   "execution_count": 94,
   "metadata": {},
   "outputs": [
    {
     "data": {
      "text/plain": [
       "id_hecho                0\n",
       "nro_victimas            0\n",
       "fecha                   0\n",
       "franja_horaria          1\n",
       "lugar_hecho             0\n",
       "tipo_calle              0\n",
       "calle                   0\n",
       "cruce                   0\n",
       "direc_normalizada       0\n",
       "comuna                  0\n",
       "longitud               13\n",
       "latitud                13\n",
       "participantes           0\n",
       "acusado                 0\n",
       "rol                     0\n",
       "victima                 0\n",
       "sexo                    0\n",
       "edad                   53\n",
       "fecha_fallecimiento     0\n",
       "dtype: int64"
      ]
     },
     "execution_count": 94,
     "metadata": {},
     "output_type": "execute_result"
    }
   ],
   "source": [
    "data.isnull().sum()"
   ]
  },
  {
   "cell_type": "code",
   "execution_count": 95,
   "metadata": {},
   "outputs": [
    {
     "name": "stdout",
     "output_type": "stream",
     "text": [
      "<class 'pandas.core.frame.DataFrame'>\n",
      "RangeIndex: 717 entries, 0 to 716\n",
      "Data columns (total 19 columns):\n",
      " #   Column               Non-Null Count  Dtype  \n",
      "---  ------               --------------  -----  \n",
      " 0   id_hecho             717 non-null    object \n",
      " 1   nro_victimas         717 non-null    int64  \n",
      " 2   fecha                717 non-null    object \n",
      " 3   franja_horaria       716 non-null    Int64  \n",
      " 4   lugar_hecho          717 non-null    object \n",
      " 5   tipo_calle           717 non-null    object \n",
      " 6   calle                717 non-null    object \n",
      " 7   cruce                717 non-null    object \n",
      " 8   direc_normalizada    717 non-null    object \n",
      " 9   comuna               717 non-null    object \n",
      " 10  longitud             704 non-null    float64\n",
      " 11  latitud              704 non-null    float64\n",
      " 12  participantes        717 non-null    object \n",
      " 13  acusado              717 non-null    object \n",
      " 14  rol                  717 non-null    object \n",
      " 15  victima              717 non-null    object \n",
      " 16  sexo                 717 non-null    object \n",
      " 17  edad                 664 non-null    Int64  \n",
      " 18  fecha_fallecimiento  717 non-null    object \n",
      "dtypes: Int64(2), float64(2), int64(1), object(14)\n",
      "memory usage: 108.0+ KB\n"
     ]
    }
   ],
   "source": [
    "data.info()"
   ]
  },
  {
   "cell_type": "code",
   "execution_count": 96,
   "metadata": {},
   "outputs": [],
   "source": [
    "\n",
    "pickle_out = open(\"../datasets/data.pkl\",\"wb\")\n",
    "pickle.dump(data, pickle_out)\n",
    "pickle_out.close()"
   ]
  }
 ],
 "metadata": {
  "kernelspec": {
   "display_name": "Python 3",
   "language": "python",
   "name": "python3"
  },
  "language_info": {
   "codemirror_mode": {
    "name": "ipython",
    "version": 3
   },
   "file_extension": ".py",
   "mimetype": "text/x-python",
   "name": "python",
   "nbconvert_exporter": "python",
   "pygments_lexer": "ipython3",
   "version": "3.11.4"
  },
  "orig_nbformat": 4
 },
 "nbformat": 4,
 "nbformat_minor": 2
}
