{
 "cells": [
  {
   "cell_type": "code",
   "execution_count": 1,
   "metadata": {},
   "outputs": [],
   "source": [
    "#!pip install pandas-profiling\n",
    "#!pip install openpyxl\n",
    "#!pip install shapely\n",
    "\n",
    "import pandas as pd\n",
    "import numpy as np\n",
    "import pickle\n",
    "from shapely import wkt\n",
    "import geopandas as gpd"
   ]
  },
  {
   "cell_type": "code",
   "execution_count": 2,
   "metadata": {},
   "outputs": [],
   "source": [
    "xls = pd.ExcelFile('../datasets/homicidios.xlsx')\n",
    "data = pd.read_excel(xls, 'HECHOS')"
   ]
  },
  {
   "cell_type": "code",
   "execution_count": 3,
   "metadata": {},
   "outputs": [],
   "source": [
    "data.columns= data.columns.str.lower()"
   ]
  },
  {
   "cell_type": "code",
   "execution_count": 4,
   "metadata": {},
   "outputs": [
    {
     "data": {
      "text/html": [
       "<div>\n",
       "<style scoped>\n",
       "    .dataframe tbody tr th:only-of-type {\n",
       "        vertical-align: middle;\n",
       "    }\n",
       "\n",
       "    .dataframe tbody tr th {\n",
       "        vertical-align: top;\n",
       "    }\n",
       "\n",
       "    .dataframe thead th {\n",
       "        text-align: right;\n",
       "    }\n",
       "</style>\n",
       "<table border=\"1\" class=\"dataframe\">\n",
       "  <thead>\n",
       "    <tr style=\"text-align: right;\">\n",
       "      <th></th>\n",
       "      <th>id</th>\n",
       "      <th>n_victimas</th>\n",
       "      <th>fecha</th>\n",
       "      <th>aaaa</th>\n",
       "      <th>mm</th>\n",
       "      <th>dd</th>\n",
       "      <th>hora</th>\n",
       "      <th>hh</th>\n",
       "      <th>lugar_del_hecho</th>\n",
       "      <th>tipo_de_calle</th>\n",
       "      <th>...</th>\n",
       "      <th>altura</th>\n",
       "      <th>cruce</th>\n",
       "      <th>dirección normalizada</th>\n",
       "      <th>comuna</th>\n",
       "      <th>xy (caba)</th>\n",
       "      <th>pos x</th>\n",
       "      <th>pos y</th>\n",
       "      <th>participantes</th>\n",
       "      <th>victima</th>\n",
       "      <th>acusado</th>\n",
       "    </tr>\n",
       "  </thead>\n",
       "  <tbody>\n",
       "    <tr>\n",
       "      <th>0</th>\n",
       "      <td>2016-0001</td>\n",
       "      <td>1</td>\n",
       "      <td>2016-01-01</td>\n",
       "      <td>2016</td>\n",
       "      <td>1</td>\n",
       "      <td>1</td>\n",
       "      <td>04:00:00</td>\n",
       "      <td>4</td>\n",
       "      <td>AV PIEDRA BUENA Y AV FERNANDEZ DE LA CRUZ</td>\n",
       "      <td>AVENIDA</td>\n",
       "      <td>...</td>\n",
       "      <td>NaN</td>\n",
       "      <td>FERNANDEZ DE LA CRUZ, F., GRAL. AV.</td>\n",
       "      <td>PIEDRA BUENA AV. y FERNANDEZ DE LA CRUZ, F., G...</td>\n",
       "      <td>8</td>\n",
       "      <td>Point (98896.78238426 93532.43437792)</td>\n",
       "      <td>-58.47533969</td>\n",
       "      <td>-34.68757022</td>\n",
       "      <td>MOTO-AUTO</td>\n",
       "      <td>MOTO</td>\n",
       "      <td>AUTO</td>\n",
       "    </tr>\n",
       "    <tr>\n",
       "      <th>1</th>\n",
       "      <td>2016-0002</td>\n",
       "      <td>1</td>\n",
       "      <td>2016-01-02</td>\n",
       "      <td>2016</td>\n",
       "      <td>1</td>\n",
       "      <td>2</td>\n",
       "      <td>01:15:00</td>\n",
       "      <td>1</td>\n",
       "      <td>AV GRAL PAZ  Y AV DE LOS CORRALES</td>\n",
       "      <td>GRAL PAZ</td>\n",
       "      <td>...</td>\n",
       "      <td>NaN</td>\n",
       "      <td>DE LOS CORRALES AV.</td>\n",
       "      <td>PAZ, GRAL. AV. y DE LOS CORRALES AV.</td>\n",
       "      <td>9</td>\n",
       "      <td>Point (95832.05571093 95505.41641999)</td>\n",
       "      <td>-58.50877521</td>\n",
       "      <td>-34.66977709</td>\n",
       "      <td>AUTO-PASAJEROS</td>\n",
       "      <td>AUTO</td>\n",
       "      <td>PASAJEROS</td>\n",
       "    </tr>\n",
       "    <tr>\n",
       "      <th>2</th>\n",
       "      <td>2016-0003</td>\n",
       "      <td>1</td>\n",
       "      <td>2016-01-03</td>\n",
       "      <td>2016</td>\n",
       "      <td>1</td>\n",
       "      <td>3</td>\n",
       "      <td>07:00:00</td>\n",
       "      <td>7</td>\n",
       "      <td>AV ENTRE RIOS 2034</td>\n",
       "      <td>AVENIDA</td>\n",
       "      <td>...</td>\n",
       "      <td>2034.0</td>\n",
       "      <td>NaN</td>\n",
       "      <td>ENTRE RIOS AV. 2034</td>\n",
       "      <td>1</td>\n",
       "      <td>Point (106684.29090040 99706.57687843)</td>\n",
       "      <td>-58.39040293</td>\n",
       "      <td>-34.63189362</td>\n",
       "      <td>MOTO-AUTO</td>\n",
       "      <td>MOTO</td>\n",
       "      <td>AUTO</td>\n",
       "    </tr>\n",
       "    <tr>\n",
       "      <th>3</th>\n",
       "      <td>2016-0004</td>\n",
       "      <td>1</td>\n",
       "      <td>2016-01-10</td>\n",
       "      <td>2016</td>\n",
       "      <td>1</td>\n",
       "      <td>10</td>\n",
       "      <td>00:00:00</td>\n",
       "      <td>0</td>\n",
       "      <td>AV LARRAZABAL Y GRAL VILLEGAS CONRADO</td>\n",
       "      <td>AVENIDA</td>\n",
       "      <td>...</td>\n",
       "      <td>NaN</td>\n",
       "      <td>VILLEGAS, CONRADO, GRAL.</td>\n",
       "      <td>LARRAZABAL AV. y VILLEGAS, CONRADO, GRAL.</td>\n",
       "      <td>8</td>\n",
       "      <td>Point (99840.65224780 94269.16534422)</td>\n",
       "      <td>-58.46503904</td>\n",
       "      <td>-34.68092974</td>\n",
       "      <td>MOTO-SD</td>\n",
       "      <td>MOTO</td>\n",
       "      <td>SD</td>\n",
       "    </tr>\n",
       "    <tr>\n",
       "      <th>4</th>\n",
       "      <td>2016-0005</td>\n",
       "      <td>1</td>\n",
       "      <td>2016-01-21</td>\n",
       "      <td>2016</td>\n",
       "      <td>1</td>\n",
       "      <td>21</td>\n",
       "      <td>05:20:00</td>\n",
       "      <td>5</td>\n",
       "      <td>AV SAN JUAN Y PRESIDENTE LUIS SAENZ PEÑA</td>\n",
       "      <td>AVENIDA</td>\n",
       "      <td>...</td>\n",
       "      <td>NaN</td>\n",
       "      <td>SAENZ PE?A, LUIS, PRES.</td>\n",
       "      <td>SAN JUAN AV. y SAENZ PEÃ‘A, LUIS, PRES.</td>\n",
       "      <td>1</td>\n",
       "      <td>Point (106980.32827929 100752.16915795)</td>\n",
       "      <td>-58.38718297</td>\n",
       "      <td>-34.62246630</td>\n",
       "      <td>MOTO-PASAJEROS</td>\n",
       "      <td>MOTO</td>\n",
       "      <td>PASAJEROS</td>\n",
       "    </tr>\n",
       "  </tbody>\n",
       "</table>\n",
       "<p>5 rows × 21 columns</p>\n",
       "</div>"
      ],
      "text/plain": [
       "          id  n_victimas      fecha  aaaa  mm  dd      hora hh  \\\n",
       "0  2016-0001           1 2016-01-01  2016   1   1  04:00:00  4   \n",
       "1  2016-0002           1 2016-01-02  2016   1   2  01:15:00  1   \n",
       "2  2016-0003           1 2016-01-03  2016   1   3  07:00:00  7   \n",
       "3  2016-0004           1 2016-01-10  2016   1  10  00:00:00  0   \n",
       "4  2016-0005           1 2016-01-21  2016   1  21  05:20:00  5   \n",
       "\n",
       "                             lugar_del_hecho tipo_de_calle  ...  altura  \\\n",
       "0  AV PIEDRA BUENA Y AV FERNANDEZ DE LA CRUZ       AVENIDA  ...     NaN   \n",
       "1          AV GRAL PAZ  Y AV DE LOS CORRALES      GRAL PAZ  ...     NaN   \n",
       "2                         AV ENTRE RIOS 2034       AVENIDA  ...  2034.0   \n",
       "3      AV LARRAZABAL Y GRAL VILLEGAS CONRADO       AVENIDA  ...     NaN   \n",
       "4  AV SAN JUAN Y PRESIDENTE LUIS SAENZ PEÑA        AVENIDA  ...     NaN   \n",
       "\n",
       "                                 cruce  \\\n",
       "0  FERNANDEZ DE LA CRUZ, F., GRAL. AV.   \n",
       "1                  DE LOS CORRALES AV.   \n",
       "2                                  NaN   \n",
       "3             VILLEGAS, CONRADO, GRAL.   \n",
       "4              SAENZ PE?A, LUIS, PRES.   \n",
       "\n",
       "                               dirección normalizada comuna  \\\n",
       "0  PIEDRA BUENA AV. y FERNANDEZ DE LA CRUZ, F., G...      8   \n",
       "1               PAZ, GRAL. AV. y DE LOS CORRALES AV.      9   \n",
       "2                                ENTRE RIOS AV. 2034      1   \n",
       "3          LARRAZABAL AV. y VILLEGAS, CONRADO, GRAL.      8   \n",
       "4            SAN JUAN AV. y SAENZ PEÃ‘A, LUIS, PRES.      1   \n",
       "\n",
       "                                 xy (caba)         pos x         pos y  \\\n",
       "0    Point (98896.78238426 93532.43437792)  -58.47533969  -34.68757022   \n",
       "1    Point (95832.05571093 95505.41641999)  -58.50877521  -34.66977709   \n",
       "2   Point (106684.29090040 99706.57687843)  -58.39040293  -34.63189362   \n",
       "3    Point (99840.65224780 94269.16534422)  -58.46503904  -34.68092974   \n",
       "4  Point (106980.32827929 100752.16915795)  -58.38718297  -34.62246630   \n",
       "\n",
       "    participantes victima    acusado  \n",
       "0       MOTO-AUTO    MOTO       AUTO  \n",
       "1  AUTO-PASAJEROS    AUTO  PASAJEROS  \n",
       "2       MOTO-AUTO    MOTO       AUTO  \n",
       "3         MOTO-SD    MOTO         SD  \n",
       "4  MOTO-PASAJEROS    MOTO  PASAJEROS  \n",
       "\n",
       "[5 rows x 21 columns]"
      ]
     },
     "execution_count": 4,
     "metadata": {},
     "output_type": "execute_result"
    }
   ],
   "source": [
    "data.head(5)"
   ]
  },
  {
   "cell_type": "code",
   "execution_count": 5,
   "metadata": {},
   "outputs": [
    {
     "data": {
      "text/plain": [
       "(696, 21)"
      ]
     },
     "execution_count": 5,
     "metadata": {},
     "output_type": "execute_result"
    }
   ],
   "source": [
    "#Verificador de Dimension del DataFrame de Hechos\n",
    "data.shape"
   ]
  },
  {
   "cell_type": "code",
   "execution_count": 6,
   "metadata": {},
   "outputs": [
    {
     "name": "stdout",
     "output_type": "stream",
     "text": [
      "<class 'pandas.core.frame.DataFrame'>\n",
      "RangeIndex: 696 entries, 0 to 695\n",
      "Data columns (total 21 columns):\n",
      " #   Column                 Non-Null Count  Dtype         \n",
      "---  ------                 --------------  -----         \n",
      " 0   id                     696 non-null    object        \n",
      " 1   n_victimas             696 non-null    int64         \n",
      " 2   fecha                  696 non-null    datetime64[ns]\n",
      " 3   aaaa                   696 non-null    int64         \n",
      " 4   mm                     696 non-null    int64         \n",
      " 5   dd                     696 non-null    int64         \n",
      " 6   hora                   696 non-null    object        \n",
      " 7   hh                     696 non-null    object        \n",
      " 8   lugar_del_hecho        696 non-null    object        \n",
      " 9   tipo_de_calle          696 non-null    object        \n",
      " 10  calle                  695 non-null    object        \n",
      " 11  altura                 129 non-null    float64       \n",
      " 12  cruce                  525 non-null    object        \n",
      " 13  dirección normalizada  688 non-null    object        \n",
      " 14  comuna                 696 non-null    int64         \n",
      " 15  xy (caba)              696 non-null    object        \n",
      " 16  pos x                  696 non-null    object        \n",
      " 17  pos y                  696 non-null    object        \n",
      " 18  participantes          696 non-null    object        \n",
      " 19  victima                696 non-null    object        \n",
      " 20  acusado                696 non-null    object        \n",
      "dtypes: datetime64[ns](1), float64(1), int64(5), object(14)\n",
      "memory usage: 114.3+ KB\n"
     ]
    }
   ],
   "source": [
    "#Tipo de Datos de Columnas\n",
    "data.info()"
   ]
  },
  {
   "cell_type": "markdown",
   "metadata": {},
   "source": [
    "### Vericando Duplicados"
   ]
  },
  {
   "cell_type": "code",
   "execution_count": 7,
   "metadata": {},
   "outputs": [
    {
     "name": "stdout",
     "output_type": "stream",
     "text": [
      "Numero de filas duplicadas = 0\n"
     ]
    }
   ],
   "source": [
    "print(f\"Numero de filas duplicadas = {data.duplicated().sum()}\")"
   ]
  },
  {
   "cell_type": "markdown",
   "metadata": {},
   "source": [
    "### Verificando Columnas con valores nulos"
   ]
  },
  {
   "cell_type": "code",
   "execution_count": 8,
   "metadata": {},
   "outputs": [
    {
     "data": {
      "text/plain": [
       "id                         0\n",
       "n_victimas                 0\n",
       "fecha                      0\n",
       "aaaa                       0\n",
       "mm                         0\n",
       "dd                         0\n",
       "hora                       0\n",
       "hh                         0\n",
       "lugar_del_hecho            0\n",
       "tipo_de_calle              0\n",
       "calle                      1\n",
       "altura                   567\n",
       "cruce                    171\n",
       "dirección normalizada      8\n",
       "comuna                     0\n",
       "xy (caba)                  0\n",
       "pos x                      0\n",
       "pos y                      0\n",
       "participantes              0\n",
       "victima                    0\n",
       "acusado                    0\n",
       "dtype: int64"
      ]
     },
     "execution_count": 8,
     "metadata": {},
     "output_type": "execute_result"
    }
   ],
   "source": [
    "data.isnull().sum()"
   ]
  },
  {
   "cell_type": "markdown",
   "metadata": {},
   "source": [
    "Se prescinde de la columna 'altura' ya que los valores nulos representan más del 30% del Total "
   ]
  },
  {
   "cell_type": "code",
   "execution_count": 9,
   "metadata": {},
   "outputs": [],
   "source": [
    "#Eliminación de las Columnas 'Altura' \n",
    "data.drop(columns=['altura'], inplace=True)"
   ]
  },
  {
   "cell_type": "markdown",
   "metadata": {},
   "source": [
    "### Conversión de Tipo de Dato"
   ]
  },
  {
   "cell_type": "code",
   "execution_count": 10,
   "metadata": {},
   "outputs": [],
   "source": [
    "data['fecha'] = data['fecha'].dt.date\n",
    "data['fecha'] = data['fecha'].replace(pd.NaT, '')"
   ]
  },
  {
   "cell_type": "code",
   "execution_count": 11,
   "metadata": {},
   "outputs": [],
   "source": [
    "data['hh'] = pd.to_numeric(data['hh'], errors=\"coerce\")"
   ]
  },
  {
   "cell_type": "code",
   "execution_count": 12,
   "metadata": {},
   "outputs": [],
   "source": [
    "data['pos x'] = pd.to_numeric(data['pos x'], errors=\"coerce\" )\n",
    "data['pos y'] = pd.to_numeric(data['pos y'], errors=\"coerce\" )"
   ]
  },
  {
   "cell_type": "markdown",
   "metadata": {},
   "source": [
    "### Reemplazo de Valores "
   ]
  },
  {
   "cell_type": "code",
   "execution_count": 13,
   "metadata": {},
   "outputs": [],
   "source": [
    "data['calle'].fillna('SD', inplace=True)\n",
    "data['cruce'].fillna('SD', inplace=True)\n",
    "data['dirección normalizada'].fillna('SD', inplace=True)"
   ]
  },
  {
   "cell_type": "code",
   "execution_count": 14,
   "metadata": {},
   "outputs": [],
   "source": [
    "data['lugar_del_hecho'] = data['lugar_del_hecho'].str.title()\n",
    "data['tipo_de_calle'] = data['tipo_de_calle'].str.title()\n",
    "data['calle'] = data['calle'].str.title()\n",
    "\n",
    "data['cruce'] = data['cruce'].str.title()\n",
    "data['dirección normalizada'] = data['dirección normalizada'].str.title()\n",
    "data['participantes'] = data['participantes'].str.title()\n",
    "data['acusado'] = data['acusado'].str.title()"
   ]
  },
  {
   "cell_type": "code",
   "execution_count": 15,
   "metadata": {},
   "outputs": [],
   "source": [
    "data['comuna'] = 'comuna ' + data['comuna'].astype(str)"
   ]
  },
  {
   "cell_type": "code",
   "execution_count": 16,
   "metadata": {},
   "outputs": [],
   "source": [
    "data['comuna'] = data['comuna'].replace('comuna 0', 'SD')"
   ]
  },
  {
   "cell_type": "code",
   "execution_count": 17,
   "metadata": {},
   "outputs": [],
   "source": [
    "## ADD\n",
    "data['hh'] = data['hh'].astype('Int64')"
   ]
  },
  {
   "cell_type": "markdown",
   "metadata": {},
   "source": [
    "Se prescinde de las columnas 'AAAA', 'MM' , 'DD' y 'HORA' las 3 primeras se desprenden de la columa 'FECHA' y la columna 'HORA' es mejor explicada en la columna 'HH'"
   ]
  },
  {
   "cell_type": "code",
   "execution_count": 18,
   "metadata": {},
   "outputs": [],
   "source": [
    "data.drop(columns=['aaaa'], inplace=True)\n",
    "data.drop(columns=['mm'], inplace=True)\n",
    "data.drop(columns=['dd'], inplace=True)\n",
    "data.drop(columns=['hora'], inplace=True)\n",
    "data.drop(columns=['victima'], inplace=True)"
   ]
  },
  {
   "cell_type": "code",
   "execution_count": 19,
   "metadata": {},
   "outputs": [
    {
     "data": {
      "text/plain": [
       "id                        0\n",
       "n_victimas                0\n",
       "fecha                     0\n",
       "hh                        1\n",
       "lugar_del_hecho           0\n",
       "tipo_de_calle             0\n",
       "calle                     0\n",
       "cruce                     0\n",
       "dirección normalizada     0\n",
       "comuna                    0\n",
       "xy (caba)                 0\n",
       "pos x                    12\n",
       "pos y                    12\n",
       "participantes             0\n",
       "acusado                   0\n",
       "dtype: int64"
      ]
     },
     "execution_count": 19,
     "metadata": {},
     "output_type": "execute_result"
    }
   ],
   "source": [
    "data.isna().sum()"
   ]
  },
  {
   "cell_type": "code",
   "execution_count": 20,
   "metadata": {},
   "outputs": [],
   "source": [
    "data.rename(columns={'id': 'id_hecho'}, inplace=True)\n",
    "data.rename(columns={'dirección normalizada': 'direc_normalizada'}, inplace=True)\n",
    "data.rename(columns={'lugar_del_hecho': 'lugar_hecho'}, inplace=True)\n",
    "data.rename(columns={'tipo_de_calle': 'tipo_calle'}, inplace=True)\n",
    "data.rename(columns={'pos x': 'longitud'}, inplace=True)\n",
    "data.rename(columns={'pos y': 'latitud'}, inplace=True)"
   ]
  },
  {
   "cell_type": "code",
   "execution_count": 21,
   "metadata": {},
   "outputs": [],
   "source": [
    "data.rename(columns={'hh': 'franja_horaria'}, inplace=True)\n",
    "data.rename(columns={'n_victimas': 'nro_victimas'}, inplace=True)\n",
    "data.rename(columns={'xy (caba)': 'localizacion'}, inplace=True)"
   ]
  },
  {
   "cell_type": "code",
   "execution_count": 22,
   "metadata": {},
   "outputs": [],
   "source": [
    "# Se elimina esta columna porque se puede hallar en base a la latitud y longitud\n",
    "#data.drop(columns=['localizacion'], inplace=True)"
   ]
  },
  {
   "cell_type": "code",
   "execution_count": 23,
   "metadata": {},
   "outputs": [
    {
     "data": {
      "text/html": [
       "<div>\n",
       "<style scoped>\n",
       "    .dataframe tbody tr th:only-of-type {\n",
       "        vertical-align: middle;\n",
       "    }\n",
       "\n",
       "    .dataframe tbody tr th {\n",
       "        vertical-align: top;\n",
       "    }\n",
       "\n",
       "    .dataframe thead th {\n",
       "        text-align: right;\n",
       "    }\n",
       "</style>\n",
       "<table border=\"1\" class=\"dataframe\">\n",
       "  <thead>\n",
       "    <tr style=\"text-align: right;\">\n",
       "      <th></th>\n",
       "      <th>id_hecho</th>\n",
       "      <th>nro_victimas</th>\n",
       "      <th>fecha</th>\n",
       "      <th>franja_horaria</th>\n",
       "      <th>lugar_hecho</th>\n",
       "      <th>tipo_calle</th>\n",
       "      <th>calle</th>\n",
       "      <th>cruce</th>\n",
       "      <th>direc_normalizada</th>\n",
       "      <th>comuna</th>\n",
       "      <th>localizacion</th>\n",
       "      <th>longitud</th>\n",
       "      <th>latitud</th>\n",
       "      <th>participantes</th>\n",
       "      <th>acusado</th>\n",
       "    </tr>\n",
       "  </thead>\n",
       "  <tbody>\n",
       "    <tr>\n",
       "      <th>0</th>\n",
       "      <td>2016-0001</td>\n",
       "      <td>1</td>\n",
       "      <td>2016-01-01</td>\n",
       "      <td>4</td>\n",
       "      <td>Av Piedra Buena Y Av Fernandez De La Cruz</td>\n",
       "      <td>Avenida</td>\n",
       "      <td>Piedra Buena Av.</td>\n",
       "      <td>Fernandez De La Cruz, F., Gral. Av.</td>\n",
       "      <td>Piedra Buena Av. Y Fernandez De La Cruz, F., G...</td>\n",
       "      <td>comuna 8</td>\n",
       "      <td>Point (98896.78238426 93532.43437792)</td>\n",
       "      <td>-58.475340</td>\n",
       "      <td>-34.687570</td>\n",
       "      <td>Moto-Auto</td>\n",
       "      <td>Auto</td>\n",
       "    </tr>\n",
       "    <tr>\n",
       "      <th>1</th>\n",
       "      <td>2016-0002</td>\n",
       "      <td>1</td>\n",
       "      <td>2016-01-02</td>\n",
       "      <td>1</td>\n",
       "      <td>Av Gral Paz  Y Av De Los Corrales</td>\n",
       "      <td>Gral Paz</td>\n",
       "      <td>Paz, Gral. Av.</td>\n",
       "      <td>De Los Corrales Av.</td>\n",
       "      <td>Paz, Gral. Av. Y De Los Corrales Av.</td>\n",
       "      <td>comuna 9</td>\n",
       "      <td>Point (95832.05571093 95505.41641999)</td>\n",
       "      <td>-58.508775</td>\n",
       "      <td>-34.669777</td>\n",
       "      <td>Auto-Pasajeros</td>\n",
       "      <td>Pasajeros</td>\n",
       "    </tr>\n",
       "    <tr>\n",
       "      <th>2</th>\n",
       "      <td>2016-0003</td>\n",
       "      <td>1</td>\n",
       "      <td>2016-01-03</td>\n",
       "      <td>7</td>\n",
       "      <td>Av Entre Rios 2034</td>\n",
       "      <td>Avenida</td>\n",
       "      <td>Entre Rios Av.</td>\n",
       "      <td>Sd</td>\n",
       "      <td>Entre Rios Av. 2034</td>\n",
       "      <td>comuna 1</td>\n",
       "      <td>Point (106684.29090040 99706.57687843)</td>\n",
       "      <td>-58.390403</td>\n",
       "      <td>-34.631894</td>\n",
       "      <td>Moto-Auto</td>\n",
       "      <td>Auto</td>\n",
       "    </tr>\n",
       "    <tr>\n",
       "      <th>3</th>\n",
       "      <td>2016-0004</td>\n",
       "      <td>1</td>\n",
       "      <td>2016-01-10</td>\n",
       "      <td>0</td>\n",
       "      <td>Av Larrazabal Y Gral Villegas Conrado</td>\n",
       "      <td>Avenida</td>\n",
       "      <td>Larrazabal Av.</td>\n",
       "      <td>Villegas, Conrado, Gral.</td>\n",
       "      <td>Larrazabal Av. Y Villegas, Conrado, Gral.</td>\n",
       "      <td>comuna 8</td>\n",
       "      <td>Point (99840.65224780 94269.16534422)</td>\n",
       "      <td>-58.465039</td>\n",
       "      <td>-34.680930</td>\n",
       "      <td>Moto-Sd</td>\n",
       "      <td>Sd</td>\n",
       "    </tr>\n",
       "    <tr>\n",
       "      <th>4</th>\n",
       "      <td>2016-0005</td>\n",
       "      <td>1</td>\n",
       "      <td>2016-01-21</td>\n",
       "      <td>5</td>\n",
       "      <td>Av San Juan Y Presidente Luis Saenz Peña</td>\n",
       "      <td>Avenida</td>\n",
       "      <td>San Juan Av.</td>\n",
       "      <td>Saenz Pe?A, Luis, Pres.</td>\n",
       "      <td>San Juan Av. Y Saenz Peã‘A, Luis, Pres.</td>\n",
       "      <td>comuna 1</td>\n",
       "      <td>Point (106980.32827929 100752.16915795)</td>\n",
       "      <td>-58.387183</td>\n",
       "      <td>-34.622466</td>\n",
       "      <td>Moto-Pasajeros</td>\n",
       "      <td>Pasajeros</td>\n",
       "    </tr>\n",
       "  </tbody>\n",
       "</table>\n",
       "</div>"
      ],
      "text/plain": [
       "    id_hecho  nro_victimas       fecha  franja_horaria  \\\n",
       "0  2016-0001             1  2016-01-01               4   \n",
       "1  2016-0002             1  2016-01-02               1   \n",
       "2  2016-0003             1  2016-01-03               7   \n",
       "3  2016-0004             1  2016-01-10               0   \n",
       "4  2016-0005             1  2016-01-21               5   \n",
       "\n",
       "                                 lugar_hecho tipo_calle             calle  \\\n",
       "0  Av Piedra Buena Y Av Fernandez De La Cruz    Avenida  Piedra Buena Av.   \n",
       "1          Av Gral Paz  Y Av De Los Corrales   Gral Paz    Paz, Gral. Av.   \n",
       "2                         Av Entre Rios 2034    Avenida    Entre Rios Av.   \n",
       "3      Av Larrazabal Y Gral Villegas Conrado    Avenida    Larrazabal Av.   \n",
       "4  Av San Juan Y Presidente Luis Saenz Peña     Avenida      San Juan Av.   \n",
       "\n",
       "                                 cruce  \\\n",
       "0  Fernandez De La Cruz, F., Gral. Av.   \n",
       "1                  De Los Corrales Av.   \n",
       "2                                   Sd   \n",
       "3             Villegas, Conrado, Gral.   \n",
       "4              Saenz Pe?A, Luis, Pres.   \n",
       "\n",
       "                                   direc_normalizada    comuna  \\\n",
       "0  Piedra Buena Av. Y Fernandez De La Cruz, F., G...  comuna 8   \n",
       "1               Paz, Gral. Av. Y De Los Corrales Av.  comuna 9   \n",
       "2                                Entre Rios Av. 2034  comuna 1   \n",
       "3          Larrazabal Av. Y Villegas, Conrado, Gral.  comuna 8   \n",
       "4            San Juan Av. Y Saenz Peã‘A, Luis, Pres.  comuna 1   \n",
       "\n",
       "                              localizacion   longitud    latitud  \\\n",
       "0    Point (98896.78238426 93532.43437792) -58.475340 -34.687570   \n",
       "1    Point (95832.05571093 95505.41641999) -58.508775 -34.669777   \n",
       "2   Point (106684.29090040 99706.57687843) -58.390403 -34.631894   \n",
       "3    Point (99840.65224780 94269.16534422) -58.465039 -34.680930   \n",
       "4  Point (106980.32827929 100752.16915795) -58.387183 -34.622466   \n",
       "\n",
       "    participantes    acusado  \n",
       "0       Moto-Auto       Auto  \n",
       "1  Auto-Pasajeros  Pasajeros  \n",
       "2       Moto-Auto       Auto  \n",
       "3         Moto-Sd         Sd  \n",
       "4  Moto-Pasajeros  Pasajeros  "
      ]
     },
     "execution_count": 23,
     "metadata": {},
     "output_type": "execute_result"
    }
   ],
   "source": [
    "data.head(5)"
   ]
  },
  {
   "cell_type": "code",
   "execution_count": 24,
   "metadata": {},
   "outputs": [],
   "source": [
    "#data[data['id_hecho']=='2017-0050']"
   ]
  },
  {
   "cell_type": "code",
   "execution_count": 25,
   "metadata": {},
   "outputs": [],
   "source": [
    "#Consulta duplicado por id_hecho\n",
    "duplicate = data[data.duplicated('id_hecho')]"
   ]
  },
  {
   "cell_type": "code",
   "execution_count": 26,
   "metadata": {},
   "outputs": [
    {
     "data": {
      "text/html": [
       "<div>\n",
       "<style scoped>\n",
       "    .dataframe tbody tr th:only-of-type {\n",
       "        vertical-align: middle;\n",
       "    }\n",
       "\n",
       "    .dataframe tbody tr th {\n",
       "        vertical-align: top;\n",
       "    }\n",
       "\n",
       "    .dataframe thead th {\n",
       "        text-align: right;\n",
       "    }\n",
       "</style>\n",
       "<table border=\"1\" class=\"dataframe\">\n",
       "  <thead>\n",
       "    <tr style=\"text-align: right;\">\n",
       "      <th></th>\n",
       "      <th>id_hecho</th>\n",
       "      <th>nro_victimas</th>\n",
       "      <th>fecha</th>\n",
       "      <th>franja_horaria</th>\n",
       "      <th>lugar_hecho</th>\n",
       "      <th>tipo_calle</th>\n",
       "      <th>calle</th>\n",
       "      <th>cruce</th>\n",
       "      <th>direc_normalizada</th>\n",
       "      <th>comuna</th>\n",
       "      <th>localizacion</th>\n",
       "      <th>longitud</th>\n",
       "      <th>latitud</th>\n",
       "      <th>participantes</th>\n",
       "      <th>acusado</th>\n",
       "    </tr>\n",
       "  </thead>\n",
       "  <tbody>\n",
       "  </tbody>\n",
       "</table>\n",
       "</div>"
      ],
      "text/plain": [
       "Empty DataFrame\n",
       "Columns: [id_hecho, nro_victimas, fecha, franja_horaria, lugar_hecho, tipo_calle, calle, cruce, direc_normalizada, comuna, localizacion, longitud, latitud, participantes, acusado]\n",
       "Index: []"
      ]
     },
     "execution_count": 26,
     "metadata": {},
     "output_type": "execute_result"
    }
   ],
   "source": [
    "duplicate"
   ]
  },
  {
   "cell_type": "code",
   "execution_count": 27,
   "metadata": {},
   "outputs": [],
   "source": [
    "\n",
    "pickle_out = open(\"../datasets/dataHecho.pkl\",\"wb\")\n",
    "pickle.dump(data, pickle_out)\n",
    "pickle_out.close()"
   ]
  },
  {
   "cell_type": "code",
   "execution_count": 28,
   "metadata": {},
   "outputs": [
    {
     "name": "stdout",
     "output_type": "stream",
     "text": [
      "<class 'pandas.core.frame.DataFrame'>\n",
      "RangeIndex: 696 entries, 0 to 695\n",
      "Data columns (total 15 columns):\n",
      " #   Column             Non-Null Count  Dtype  \n",
      "---  ------             --------------  -----  \n",
      " 0   id_hecho           696 non-null    object \n",
      " 1   nro_victimas       696 non-null    int64  \n",
      " 2   fecha              696 non-null    object \n",
      " 3   franja_horaria     695 non-null    Int64  \n",
      " 4   lugar_hecho        696 non-null    object \n",
      " 5   tipo_calle         696 non-null    object \n",
      " 6   calle              696 non-null    object \n",
      " 7   cruce              696 non-null    object \n",
      " 8   direc_normalizada  696 non-null    object \n",
      " 9   comuna             696 non-null    object \n",
      " 10  localizacion       696 non-null    object \n",
      " 11  longitud           684 non-null    float64\n",
      " 12  latitud            684 non-null    float64\n",
      " 13  participantes      696 non-null    object \n",
      " 14  acusado            696 non-null    object \n",
      "dtypes: Int64(1), float64(2), int64(1), object(11)\n",
      "memory usage: 82.4+ KB\n"
     ]
    }
   ],
   "source": [
    "data.info()"
   ]
  },
  {
   "cell_type": "code",
   "execution_count": 29,
   "metadata": {},
   "outputs": [],
   "source": [
    "data.insert(0, 'id', range(1, 1 + len(data)))"
   ]
  },
  {
   "cell_type": "code",
   "execution_count": 30,
   "metadata": {},
   "outputs": [],
   "source": [
    "def getNormalizeDate(text):   \n",
    "    text = str.lstrip(str.rstrip(text))\n",
    "    text = text.replace('\"', '')\n",
    "\n",
    "    return text "
   ]
  },
  {
   "cell_type": "code",
   "execution_count": 31,
   "metadata": {},
   "outputs": [],
   "source": [
    "data['id_hecho']= data['id_hecho'].astype(str).apply(getNormalizeDate)\n",
    "data['fecha']=data['fecha'].astype(str).apply(getNormalizeDate)\n",
    "data['lugar_hecho']=data['lugar_hecho'].astype(str).apply(getNormalizeDate)\n",
    "data['tipo_calle']=data['tipo_calle'].astype(str).apply(getNormalizeDate)     \n",
    "data['calle']=data['calle'].astype(str).apply(getNormalizeDate)               \n",
    "data['cruce']=data['cruce'].astype(str).apply(getNormalizeDate)              \n",
    "data['direc_normalizada']=data['direc_normalizada'].astype(str).apply(getNormalizeDate)\n",
    "data['comuna']=data['comuna'].astype(str).apply(getNormalizeDate)\n",
    "data['participantes']=data['participantes'].astype(str).apply(getNormalizeDate)\n",
    "data['acusado']=data['acusado'].astype(str).apply(getNormalizeDate)"
   ]
  },
  {
   "cell_type": "code",
   "execution_count": 32,
   "metadata": {},
   "outputs": [],
   "source": [
    "data.to_csv('../sql/dataHecho.csv', header=False, index=False)"
   ]
  }
 ],
 "metadata": {
  "kernelspec": {
   "display_name": "Python 3",
   "language": "python",
   "name": "python3"
  },
  "language_info": {
   "codemirror_mode": {
    "name": "ipython",
    "version": 3
   },
   "file_extension": ".py",
   "mimetype": "text/x-python",
   "name": "python",
   "nbconvert_exporter": "python",
   "pygments_lexer": "ipython3",
   "version": "3.11.4"
  },
  "orig_nbformat": 4
 },
 "nbformat": 4,
 "nbformat_minor": 2
}
